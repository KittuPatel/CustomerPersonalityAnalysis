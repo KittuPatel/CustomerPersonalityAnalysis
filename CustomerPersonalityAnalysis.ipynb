{
  "nbformat": 4,
  "nbformat_minor": 0,
  "metadata": {
    "colab": {
      "name": "CustomerPersonalityAnalysis.ipynb",
      "provenance": [],
      "authorship_tag": "ABX9TyNiEHsqVLrDx5BMWFe1QqVt",
      "include_colab_link": true
    },
    "kernelspec": {
      "name": "python3",
      "display_name": "Python 3"
    },
    "language_info": {
      "name": "python"
    }
  },
  "cells": [
    {
      "cell_type": "markdown",
      "metadata": {
        "id": "view-in-github",
        "colab_type": "text"
      },
      "source": [
        "<a href=\"https://colab.research.google.com/github/KittuPatel/CustomerPersonaliyAnalysis/blob/main/CustomerPersonalityAnalysis.ipynb\" target=\"_parent\"><img src=\"https://colab.research.google.com/assets/colab-badge.svg\" alt=\"Open In Colab\"/></a>"
      ]
    },
    {
      "cell_type": "markdown",
      "source": [
        "*   Analyzing the domain of sales and understanding customer behavior.\n",
        "*   Performing the Exploratory Data Analysis based on the insights gained from domain knowledge.\n",
        "*   Pre-Processing of the data to remove the outliers, imputing the data for missing values.\n",
        "*   Scaling the data to normalize the values.\n",
        "*   Considering the important features by reducing the dimensionality using PCA.\n",
        "*   Using the Clustering technique to identify the segments of customers.\n",
        "*   Quantum Enhancements (Comparing Algorithm on Classical vs Quantum) "
      ],
      "metadata": {
        "id": "cBgCjh61qE-x"
      }
    }
  ]
}